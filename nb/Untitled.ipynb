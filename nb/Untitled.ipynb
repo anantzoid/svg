{
 "cells": [
  {
   "cell_type": "code",
   "execution_count": null,
   "metadata": {
    "collapsed": true
   },
   "outputs": [],
   "source": [
    "%matplotlib inline\n",
    "import numpy as np\n",
    "import matplotlib.image as mpimg\n",
    "import matplotlib.pyplot as plt\n",
    "import torch\n",
    "import torch.nn as nn\n",
    "from torch.autograd import Variable\n",
    "import torch.nn.functional as F"
   ]
  },
  {
   "cell_type": "code",
   "execution_count": null,
   "metadata": {
    "collapsed": true
   },
   "outputs": [],
   "source": [
    "def gauss_kernel(size=5, sigma=1.0):\n",
    "  grid = np.float32(np.mgrid[0:size,0:size].T)\n",
    "  gaussian = lambda x: np.exp((x - size//2)**2/(-2*sigma**2))**2\n",
    "  kernel = np.sum(gaussian(grid), axis=2)\n",
    "  kernel /= np.sum(kernel)\n",
    "  return kernel"
   ]
  },
  {
   "cell_type": "code",
   "execution_count": null,
   "metadata": {
    "collapsed": true
   },
   "outputs": [],
   "source": [
    "img=mpimg.imread(\"/Users/jedi/Projects/deep/DCGAN-tensorflow/data/img_align_celeba/000001.jpg\")/255.\n",
    "#plt.imshow(img)"
   ]
  },
  {
   "cell_type": "code",
   "execution_count": null,
   "metadata": {
    "collapsed": true
   },
   "outputs": [],
   "source": [
    "newimg = torch.zeros(3,218,178)\n",
    "for i in range(3):\n",
    "    _ = torch.from_numpy(img).permute(2,0,1)[i,:,:].unsqueeze(0).unsqueeze(0).float()\n",
    "    newimg[i,:,:] = F.conv2d(Variable(_), Variable(torch.from_numpy(gauss_kernel()).unsqueeze(0).unsqueeze(0)), padding=2).data.squeeze(0).squeeze(0)"
   ]
  },
  {
   "cell_type": "code",
   "execution_count": null,
   "metadata": {
    "collapsed": true
   },
   "outputs": [],
   "source": [
    "_ = F.conv2d(Variable(_), Variable(torch.from_numpy(np.array(([matlab_style_gauss2D(ks, 0.1)]*9)).reshape(3,3,ks,ks))).float()).data"
   ]
  },
  {
   "cell_type": "code",
   "execution_count": null,
   "metadata": {
    "collapsed": true
   },
   "outputs": [],
   "source": [
    "ks=5\n",
    "_ = torch.from_numpy(img).permute(2,0,1).unsqueeze(0).float()\n",
    "newimg = F.conv2d(Variable(_), Variable(torch.from_numpy(np.array(([gauss_kernel()]*9)).reshape(3,3,ks,ks))), padding=2).data.squeeze(0).squeeze(0)"
   ]
  },
  {
   "cell_type": "code",
   "execution_count": null,
   "metadata": {},
   "outputs": [],
   "source": [
    "#plt.imshow(_.squeeze(0).squeeze(0).numpy())\n",
    "plt.imshow(newimg.permute(1,2,0).numpy())"
   ]
  },
  {
   "cell_type": "code",
   "execution_count": null,
   "metadata": {
    "collapsed": true
   },
   "outputs": [],
   "source": [
    "def matlab_style_gauss2D(shape=3,sigma=1.0):\n",
    "    \"\"\"\n",
    "    2D gaussian mask - should give the same result as MATLAB's\n",
    "    fspecial('gaussian',[shape],[sigma])\n",
    "    \"\"\"\n",
    "    shape = (shape, shape)\n",
    "    m,n = [(ss-1.)/2. for ss in shape]\n",
    "    y,x = np.ogrid[-m:m+1,-n:n+1]\n",
    "    h = np.exp( -(x*x + y*y) / (2.*sigma*sigma) )\n",
    "    h[ h < np.finfo(h.dtype).eps*h.max() ] = 0\n",
    "    sumh = h.sum()\n",
    "    if sumh != 0:\n",
    "        h /= sumh\n",
    "    return h"
   ]
  },
  {
   "cell_type": "code",
   "execution_count": null,
   "metadata": {
    "collapsed": true
   },
   "outputs": [],
   "source": [
    "def gkern(kernlen=4, nsig=1):\n",
    "    \"\"\"Returns a 2D Gaussian kernel array.\"\"\"\n",
    "\n",
    "    interval = (2*nsig+1.)/(kernlen)\n",
    "    x = np.linspace(-nsig-interval/2., nsig+interval/2., kernlen+1)\n",
    "    kern1d = np.diff(st.norm.cdf(x))\n",
    "    kernel_raw = np.sqrt(np.outer(kern1d, kern1d))\n",
    "    kernel = kernel_raw/kernel_raw.sum()\n",
    "    return kernel"
   ]
  },
  {
   "cell_type": "code",
   "execution_count": null,
   "metadata": {
    "collapsed": true
   },
   "outputs": [],
   "source": [
    "import scipy\n",
    "from scipy import ndimage\n",
    "plt.imshow(ndimage.filters.gaussian_filter(img, sigma=1.0,mode='nearest', cval=0,truncate=4.0,preserve_range=True))"
   ]
  },
  {
   "cell_type": "code",
   "execution_count": null,
   "metadata": {
    "collapsed": true
   },
   "outputs": [],
   "source": [
    "\n",
    "_ = torch.from_numpy(img.transpose(2,1,0)).unsqueeze(0).float()\n",
    "#_ = l(Variable(_)).data#.numpy()\n",
    "_ = F.conv2d(Variable(_), Variable(torch.from_numpy(np.array(([matlab_style_gauss2D(ks, 0.1)]*9)).reshape(3,3,ks,ks))).float()).data"
   ]
  },
  {
   "cell_type": "code",
   "execution_count": null,
   "metadata": {},
   "outputs": [],
   "source": [
    "import torchvision\n",
    "torchvision.utils.save_image(_, \"temp.png\", normalize=True)\n",
    "img=mpimg.imread(\"temp.png\")\n",
    "plt.imshow(img)"
   ]
  },
  {
   "cell_type": "code",
   "execution_count": null,
   "metadata": {},
   "outputs": [],
   "source": [
    "import tensorflow as tf\n",
    "def gauss_kernel(size=5, sigma=1.0):\n",
    "  grid = np.float32(np.mgrid[0:size,0:size].T)\n",
    "  gaussian = lambda x: np.exp((x - size//2)**2/(-2*sigma**2))**2\n",
    "  kernel = np.sum(gaussian(grid), axis=2)\n",
    "  kernel /= np.sum(kernel)\n",
    "  return kernel\n",
    "\n",
    "def conv_gauss(t_input, stride=1, k_size=19, sigma=0, repeats=1):\n",
    "  t_kernel = tf.reshape(tf.constant(gauss_kernel(size=k_size, sigma=sigma), tf.float32),\n",
    "                        [k_size, k_size, 1, 1])\n",
    "  t_kernel3 = tf.concat([t_kernel]*t_input.get_shape()[3], axis=2)\n",
    "  t_result = t_input\n",
    "  for r in range(repeats):\n",
    "    t_result = tf.nn.depthwise_conv2d(t_result, t_kernel3,\n",
    "        strides=[1, stride, stride, 1], padding='SAME')\n",
    "  return t_result\n",
    "\n",
    "def make_laplacian_pyramid(t_img, max_levels):\n",
    "  t_pyr = []\n",
    "  current = t_img\n",
    "#   fig = plt.figure()\n",
    "  fig, axes = plt.subplots(nrows=3, ncols=3, figsize=(12, 8))\n",
    "  for ax, col in zip(axes[0], ['blah']*3):\n",
    "      ax.set_title(col)\n",
    "\n",
    "  for ax, row in zip(axes[:,0], ['blah']*3):\n",
    "      ax.set_ylabel(row, rotation=0, size='large')\n",
    "\n",
    "  i = 1\n",
    "  for level in range(max_levels):\n",
    "    plt.subplot(3, 3, i)    \n",
    "    plt.imshow(tf.squeeze(current).eval())\n",
    "    i += 1\n",
    "    \n",
    "    t_gauss = conv_gauss(current, stride=1, k_size=5, sigma=2.0)\n",
    "    plt.subplot(3, 3, i)    \n",
    "    plt.imshow(tf.squeeze(t_gauss).eval())\n",
    "\n",
    "    i += 1\n",
    "    t_diff = current - t_gauss\n",
    "    print(t_diff.get_shape())\n",
    "    plt.subplot(3, 3, i)        \n",
    "    plt.imshow(tf.squeeze(t_diff).eval())\n",
    "\n",
    "    i += 1    \n",
    "    t_pyr.append(t_diff)\n",
    "    current = tf.nn.avg_pool(t_gauss, [1,2,2,1], [1,2,2,1], 'VALID')\n",
    "  t_pyr.append(current)\n",
    "  fig.tight_layout()\n",
    "#   plt.show()\n",
    "  plt.savefig('pyramid_debug.png')\n",
    "  \n",
    "  return t_pyr\n",
    "\n",
    "def laploss(t_img1, t_img2, max_levels=3):\n",
    "  t_pyr1 = make_laplacian_pyramid(t_img1, max_levels)\n",
    "  t_pyr2 = make_laplacian_pyramid(t_img2, max_levels)\n",
    "  t_losses = [tf.norm(a-b,ord=1)/tf.size(a, out_type=tf.float32) for a,b in zip(t_pyr1, t_pyr2)]\n",
    "  t_loss = tf.reduce_sum(t_losses)*tf.shape(t_img1, out_type=tf.float32)[0]\n",
    "  return t_loss"
   ]
  },
  {
   "cell_type": "code",
   "execution_count": null,
   "metadata": {},
   "outputs": [],
   "source": [
    "sess = tf.InteractiveSession()\n",
    "img1 = mpimg.imread('lapsample/10_fake.png')#/255.0\n",
    "#img1 = np.float32(img1)/128.0 - 1.0\n",
    "img1 = np.stack([img1])\n",
    "t_img1 = tf.constant(img1)\n",
    "\n",
    "t_pyr1 = make_laplacian_pyramid(t_img1, 3)"
   ]
  },
  {
   "cell_type": "markdown",
   "metadata": {},
   "source": [
    "### PyTorch"
   ]
  },
  {
   "cell_type": "code",
   "execution_count": 456,
   "metadata": {},
   "outputs": [],
   "source": [
    "import torch.nn.functional as F\n",
    "import operator\n",
    "import functools\n",
    "class Laplacian(nn.Module):\n",
    "    def __init__(self):\n",
    "        super(Laplacian, self).__init__()\n",
    "\n",
    "    def gauss_kernel(self, size=5, sigma=1.0):\n",
    "        grid = np.float32(np.mgrid[0:size,0:size].T)\n",
    "        gaussian = lambda x: np.exp((x - size//2)**2/(-2*sigma**2))**2\n",
    "        kernel = np.sum(gaussian(grid), axis=2)\n",
    "        kernel /= np.sum(kernel)\n",
    "        return kernel\n",
    "\n",
    "    def conv_gauss(self, t_input, stride=1, k_size=1, sigma=1.6, repeats=1):\n",
    "        #kernel = np.array(([self.gauss_kernel(k_size, sigma)]*9)).reshape(3,3,k_size,k_size)\n",
    "        #kernel = Variable(torch.from_numpy(kernel).cuda()).float()       \n",
    "        kernel = Variable(torch.from_numpy(self.gauss_kernel(k_size, sigma)).unsqueeze(0).unsqueeze(0)).float()\n",
    "        pyr = Variable(torch.FloatTensor(t_input.size()))\n",
    "        for i in range(t_input.size(1)):\n",
    "             pyr[:, i,:,:] = F.conv2d(t_input[:, i,:,:].unsqueeze(1), kernel, padding=2).squeeze(1)\n",
    "        return pyr\n",
    "\n",
    "    def make_laplacian_pyramid(self, x, max_levels):\n",
    "        current = x\n",
    "        t_pyr = []\n",
    "        #print(x.size())\n",
    "        for level in range(max_levels):\n",
    "            t_gauss = self.conv_gauss(current, stride=1, k_size=5, sigma=2.0)\n",
    "            #print(np.transpose(t_gauss.squeeze(0).data.numpy(), (2,0,1)).shape)\n",
    "            t_diff = current - t_gauss\n",
    "#             plt.imshow(t_diff.squeeze(0).squeeze(0).data.numpy(), cmap='gray')\n",
    "#             return\n",
    "            \n",
    "            t_pyr.append(t_diff)\n",
    "            current = F.avg_pool2d(t_gauss, 2, 2)\n",
    "        t_pyr.append(current)\n",
    "        return t_pyr\n",
    "\n",
    "    def tograyscale(self, x):\n",
    "        print(x.size())\n",
    "        x = torch.cat([(0.299*x[:,:1,:,:]), (0.299*x[:,1:2,:,:]), (0.299*x[:,2:,:,:])], dim=1)\n",
    "        return torch.sum(x, dim=1).unsqueeze(1)\n",
    "        \n",
    "    def laploss(self, x_pred, x, max_levels=3):\n",
    "        x_pred = self.tograyscale(x_pred)\n",
    "        plt.imshow(x_pred.squeeze(0).squeeze(0).data.numpy(), cmap='gray')\n",
    "        return\n",
    "    \n",
    "        x = self.tograyscale(x)\n",
    "        \n",
    "        fig, axes = plt.subplots(nrows=3, ncols=3, figsize=(12, 8))\n",
    "        plt.xticks([])\n",
    "        plt.yticks([])  \n",
    "        t_pyr1 = self.make_laplacian_pyramid(x_pred, max_levels) \n",
    "        t_pyr2 = self.make_laplacian_pyramid(x, max_levels)\n",
    "\n",
    "        plt.subplot(max_levels+1, 3, 1)            \n",
    "        plt.imshow(x_pred.squeeze(0).squeeze(0).data.numpy(), cmap='gray')\n",
    "        plt.xticks([])\n",
    "        plt.yticks([])          \n",
    "        plt.subplot(max_levels+1, 3, 2)            \n",
    "        plt.imshow(x.squeeze(0).squeeze(0).data.numpy(), cmap='gray')\n",
    "        plt.xticks([])\n",
    "        plt.yticks([])          \n",
    "        plt.subplot(max_levels+1, 3, 3)            \n",
    "        plt.imshow((x_pred.squeeze(0).squeeze(0).data.numpy())-(x.squeeze(0).squeeze(0).data.numpy()), cmap='gray')\n",
    "        plt.xticks([])\n",
    "        plt.yticks([])  \n",
    "\n",
    "        plt.savefig('pyramid1.png')\n",
    "        t_losses = [(a-b).norm(1)/float(functools.reduce(operator.mul, a.size())) for en,(a,b) in enumerate(zip(t_pyr1, t_pyr2))]\n",
    "        print(\"=====\")\n",
    "        print(t_losses)\n",
    "        return torch.sum(torch.cat(t_losses))#*x_pred.size()[0])\n",
    "    \n",
    "    def forward(self, x_pred, x):\n",
    "        return self.laploss(x_pred, x)"
   ]
  },
  {
   "cell_type": "code",
   "execution_count": 441,
   "metadata": {},
   "outputs": [],
   "source": [
    "def np2ten(x): \n",
    "    #x = np.dot(x[...,:3], [0.299, 0.587, 0.114]) \n",
    "    return Variable(torch.from_numpy(np.transpose(x, (0, 3, 1,2))).float())#.unsqueeze(1)\n",
    "\n",
    "# lap.make_laplacian_pyramid(np2ten(img1), 3)"
   ]
  },
  {
   "cell_type": "code",
   "execution_count": 442,
   "metadata": {
    "scrolled": false
   },
   "outputs": [],
   "source": [
    "im1 = np.stack([mpimg.imread('lapsample/10_fake.png')])\n",
    "im2 = np.stack([mpimg.imread('lapsample/10_true.png')])\n"
   ]
  },
  {
   "cell_type": "code",
   "execution_count": 431,
   "metadata": {},
   "outputs": [
    {
     "data": {
      "text/plain": [
       "torch.Size([1, 64, 64])"
      ]
     },
     "execution_count": 431,
     "metadata": {},
     "output_type": "execute_result"
    }
   ],
   "source": [
    "tim1 = np2ten(im1)\n",
    "\n",
    "catdim = torch.cat([(0.299*tim1[:,:1,:,:]), (0.587*tim1[:,1:2,:,:]), (0.114*tim1[:,2:,:,:])], dim=1)\n",
    "catdim = torch.sum(catdim, dim=1).size().unsqueeze(1)\n",
    "#plt.imshow(catdim.squeeze(0).squeeze(0).data.numpy(), cmap='gray')"
   ]
  },
  {
   "cell_type": "code",
   "execution_count": 451,
   "metadata": {},
   "outputs": [
    {
     "data": {
      "text/plain": [
       "<matplotlib.image.AxesImage at 0x11bfeb350>"
      ]
     },
     "execution_count": 451,
     "metadata": {},
     "output_type": "execute_result"
    },
    {
     "data": {
      "image/png": "[encoded data removed]",
      "text/plain": [
       "<matplotlib.figure.Figure at 0x11a8b6090>"
      ]
     },
     "metadata": {},
     "output_type": "display_data"
    }
   ],
   "source": [
    "# Testing manual broadcast on numpy\n",
    "\n",
    "r=np.ndarray([64,64])\n",
    "r.fill(0.299)\n",
    "r.shape\n",
    "g=np.ndarray([64,64])\n",
    "g.fill(0.587)\n",
    "g.shape\n",
    "b=np.ndarray([64,64])\n",
    "b.fill(0.114)\n",
    "b.shape\n",
    "\n",
    "\n",
    "_r = np.dot(im1[...,:1].squeeze(3), r).reshape(1,64,64,1)\n",
    "_g = np.dot(im1[...,1:2].squeeze(3), g).reshape(1,64,64,1)\n",
    "_b = np.dot(im1[...,2:3].squeeze(3), b).reshape(1,64,64,1)\n",
    "plt.imshow(np.sum([_r, _g], axis=0)[0].squeeze(2), cmap='gray')"
   ]
  },
  {
   "cell_type": "code",
   "execution_count": 457,
   "metadata": {
    "scrolled": false
   },
   "outputs": [
    {
     "name": "stdout",
     "output_type": "stream",
     "text": [
      "torch.Size([1, 3, 64, 64])\n"
     ]
    },
    {
     "data": {
      "image/png": "[encoded data removed]",
      "text/plain": [
       "<matplotlib.figure.Figure at 0x119cd5150>"
      ]
     },
     "metadata": {},
     "output_type": "display_data"
    }
   ],
   "source": [
    "lap = Laplacian()\n",
    "lap.laploss(np2ten(im1), np2ten(im2))\n",
    "# _=lap.make_laplacian_pyramid(np2ten(im1), 2)"
   ]
  },
  {
   "cell_type": "code",
   "execution_count": null,
   "metadata": {
    "collapsed": true
   },
   "outputs": [],
   "source": [
    "#######Plot code for 3-channel\n",
    "\n",
    "#         plt.subplot(max_levels+1, 3, 1)            \n",
    "#         plt.imshow(np.transpose(x_pred.squeeze(0).data.numpy(), (1, 2, 0)))\n",
    "#         plt.xticks([])\n",
    "#         plt.yticks([])          \n",
    "#         plt.subplot(max_levels+1, 3, 2)            \n",
    "#         plt.imshow(np.transpose(x.squeeze(0).data.numpy(), (1, 2, 0)))\n",
    "#         plt.xticks([])\n",
    "#         plt.yticks([])          \n",
    "#         plt.subplot(max_levels+1, 3, 3)            \n",
    "#         plt.imshow(np.transpose((x_pred.squeeze(0).data.numpy())-(x.squeeze(0).data.numpy()), (1, 2, 0)))\n",
    "#         plt.xticks([])\n",
    "#         plt.yticks([])  \n",
    "        \n",
    "#         _ = 4\n",
    "#         for e in range(max_levels):\n",
    "#             plt.subplot(max_levels+1, 3, _)            \n",
    "#             _1 = np.transpose(t_pyr1[e].squeeze(0).data.numpy(), (1, 2, 0))\n",
    "#             plt.imshow(_1)\n",
    "#             plt.xticks([])\n",
    "#             plt.yticks([])  \n",
    "\n",
    "#             _+=1\n",
    "#             plt.subplot(max_levels+1, 3, _)            \n",
    "#             _2 = np.transpose(t_pyr2[e].squeeze(0).data.numpy(), (1, 2, 0))\n",
    "#             plt.imshow(_2)\n",
    "#             plt.xticks([])\n",
    "#             plt.yticks([])  \n",
    "            \n",
    "#             _+=1\n",
    "#             plt.subplot(max_levels+1, 3, _)            \n",
    "#             plt.imshow(_1-_2)\n",
    "\n",
    "#             plt.xticks([])\n",
    "#             plt.yticks([])  \n",
    "\n",
    "#             _+=1\n",
    "#         plt.show()\n"
   ]
  }
 ],
 "metadata": {
  "kernelspec": {
   "display_name": "Python 2",
   "language": "python",
   "name": "python2"
  },
  "language_info": {
   "codemirror_mode": {
    "name": "ipython",
    "version": 2
   },
   "file_extension": ".py",
   "mimetype": "text/x-python",
   "name": "python",
   "nbconvert_exporter": "python",
   "pygments_lexer": "ipython2",
   "version": "2.7.11"
  }
 },
 "nbformat": 4,
 "nbformat_minor": 2
}
